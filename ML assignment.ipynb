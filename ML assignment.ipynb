{
 "cells": [
  {
   "cell_type": "markdown",
   "id": "5978d08b-76a5-4ca3-9989-c1af38eba322",
   "metadata": {},
   "source": [
    "Data types and data structure"
   ]
  },
  {
   "cell_type": "code",
   "execution_count": null,
   "id": "ccf9a159-85f3-473d-9701-4a84aeef98a1",
   "metadata": {},
   "outputs": [],
   "source": [
    "# Integer\n",
    "x = 4\n",
    "print(\"Integer:\", x)\n",
    "\n",
    "# Float\n",
    "y =2.15\n",
    "print(\"Float:\", y)\n",
    "\n",
    "# Complex\n",
    "z = 6+2f\n",
    "print(\"Complex:\", z)\n",
    "\n",
    "# String\n",
    "name = \"Paul\"\n",
    "print(\"String:\", name)\n",
    "\n",
    "# Boolean\n",
    "is_active = True\n",
    "print(\"Boolean:\", is_active)\n"
   ]
  },
  {
   "cell_type": "code",
   "execution_count": null,
   "id": "f53bda07-24ff-4a6b-a853-45b6793a62b1",
   "metadata": {},
   "outputs": [],
   "source": [
    "Integer: 4\n",
    "Float: 2.15\n",
    "Complex: (6+2f)\n",
    "String: Paul\n",
    "Boolean: True"
   ]
  },
  {
   "cell_type": "code",
   "execution_count": null,
   "id": "9838f661-bd5c-4f3b-9256-dd6387496106",
   "metadata": {},
   "outputs": [],
   "source": [
    "Data structure"
   ]
  },
  {
   "cell_type": "code",
   "execution_count": null,
   "id": "1b778f2f-b274-4058-a4b8-70ec16ac7adc",
   "metadata": {},
   "outputs": [],
   "source": [
    "# List (ordered, allows duplicates)\n",
    "my_list = [1, 2, 3, 4, 5]\n",
    "print(\"List:\", my_list)\n",
    "\n",
    "# Tuple (ordered, immutable)\n",
    "my_tuple = (10, 20, 30)\n",
    "print(\"Tuple:\", my_tuple)\n",
    "\n",
    "# Set (unordered, no duplicates)\n",
    "my_set = {1, 2, 3, 3, 4}\n",
    "print(\"Set:\", my_set)\n",
    "\n",
    "# Dictionary (key-value pairs)\n",
    "my_dict = {\"name\": \"Paul\", \"age\": 22, \"course\": \"Information Technology\"}\n",
    "print(\"Dictionary:\", my_dict)\n"
   ]
  },
  {
   "cell_type": "code",
   "execution_count": null,
   "id": "6ef4cec4-1dfd-43c9-becd-33ed99f96301",
   "metadata": {},
   "outputs": [],
   "source": [
    "List: [1, 2, 3, 4, 5]\n",
    "Tuple: (10, 20, 30)\n",
    "Set: {1, 2, 3, 4}\n",
    "Dictionary: {'name': 'Paul', 'age': 23, 'course': 'Information Technology'}"
   ]
  }
 ],
 "metadata": {
  "kernelspec": {
   "display_name": "Python 3 (ipykernel)",
   "language": "python",
   "name": "python3"
  },
  "language_info": {
   "codemirror_mode": {
    "name": "ipython",
    "version": 3
   },
   "file_extension": ".py",
   "mimetype": "text/x-python",
   "name": "python",
   "nbconvert_exporter": "python",
   "pygments_lexer": "ipython3",
   "version": "3.13.7"
  }
 },
 "nbformat": 4,
 "nbformat_minor": 5
}
